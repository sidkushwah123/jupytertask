{
 "cells": [
  {
   "cell_type": "code",
   "execution_count": null,
   "metadata": {},
   "outputs": [],
   "source": [
    "spam = open('Filter_tweets.txt', encoding='utf-8').read().split('\\n')\n",
    "spam = [word for word in spam if word.strip()]"
   ]
  },
  {
   "cell_type": "code",
   "execution_count": null,
   "metadata": {},
   "outputs": [],
   "source": [
    "def filter_tweets(text):\n",
    "    if has_spam(text):\n",
    "        return None\n",
    "    else:\n",
    "        return text\n",
    "\n",
    "    \n",
    "def has_spam(text):\n",
    "    for word in spam:\n",
    "        if str(word) in str(text):\n",
    "            print(word, 'removed from', text)\n",
    "            return True"
   ]
  }
 ],
 "metadata": {
  "kernelspec": {
   "display_name": "Python 3",
   "language": "python",
   "name": "python3"
  },
  "language_info": {
   "codemirror_mode": {
    "name": "ipython",
    "version": 3
   },
   "file_extension": ".py",
   "mimetype": "text/x-python",
   "name": "python",
   "nbconvert_exporter": "python",
   "pygments_lexer": "ipython3",
   "version": "3.9.1"
  }
 },
 "nbformat": 4,
 "nbformat_minor": 4
}
